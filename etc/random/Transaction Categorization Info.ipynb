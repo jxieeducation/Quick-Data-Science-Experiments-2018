{
 "cells": [
  {
   "cell_type": "markdown",
   "metadata": {},
   "source": [
    "## White Papers"
   ]
  },
  {
   "cell_type": "markdown",
   "metadata": {},
   "source": [
    "[Yodlee faq](https://developer.yodlee.com/Knowledge_Base/Transaction_Categorization)"
   ]
  },
  {
   "cell_type": "markdown",
   "metadata": {},
   "source": [
    "* categorizes using transaction description field \n",
    "    * has a list of keywords (e.g. burrito -> food, mortgage -> loan)\n",
    "    * (this prob means that they have a list of rules - rules tend not to be as good as state of the art ML)"
   ]
  },
  {
   "cell_type": "markdown",
   "metadata": {},
   "source": [
    "* categories - https://developer.yodlee.com/Yodlee_API/docs/v1_1/Transaction_Categories\n",
    "* api - https://developer.yodlee.com/apidocs/index.php#!/transactions/getTransactions\n",
    "    * their transaction rules api is also pretty awesome - https://developer.yodlee.com/apidocs/index.php#!/transactions/getTransactionCategorizationRules\n",
    "* important features for their algorithm:\n",
    "    * credit or debit\n",
    "    * transaction amount\n",
    "    * time \n",
    "    * description (e.g. ACH Withdrawal-Debit XXXXXXXX00 - PPD US BANK - LOAN A BILL PAYMT)\n",
    "    * merchant (name, address, type)\n",
    "* user defined categories\n",
    "    * "
   ]
  },
  {
   "cell_type": "markdown",
   "metadata": {},
   "source": [
    "[MX white paper](https://go.mx.com/hs-fs/hub/456459/file-2662087128-pdf/PDFs/MX_TransactionData.pdf?t=1528465291015)"
   ]
  },
  {
   "cell_type": "markdown",
   "metadata": {},
   "source": [
    "* takes transaction feed\n",
    "    * e.g. COSTCxx 04ROCHESTER XXX726 XXX-XXX-1189 XXX027 --> costco\n",
    "* 4 filters\n",
    "    * user preference - do what the user asked\n",
    "    * parser - try to parse the feed with a rule based model\n",
    "    * matcher - rules that correlate with specific transaction feeds\n",
    "    * crowdsourced - try to categorize by what other users labeled\n",
    "* classify transaction (e.g. what are all of your bill payments) - then aggregate the classified transactions with competitors - lastly sell the data"
   ]
  },
  {
   "cell_type": "markdown",
   "metadata": {},
   "source": [
    "[Strand white paper](https://finance.strands.com/white-paper-design-principles-of-transaction-categorization/)"
   ]
  },
  {
   "cell_type": "markdown",
   "metadata": {},
   "source": [
    "[Zoho faq](https://www.zoho.com/us/books/kb/banking/auto-categorization-of-transactions.html)"
   ]
  },
  {
   "cell_type": "markdown",
   "metadata": {},
   "source": [
    "**I called up customer service for Zoho Books (their accounting software)**\n",
    "* heavily rule based (a rule can be user generated or be one of the generic ones offered by the system)\n",
    "    * deposit / withdrawals\n",
    "    * Zoho Books will automatically display the matching transactions for the selected transaction. Select the matching Zoho Books transactions and click on Match.\n",
    "    * some type of regex with existing transaction feed"
   ]
  },
  {
   "cell_type": "markdown",
   "metadata": {},
   "source": [
    "[Plaid blog](https://blog.plaid.com/making-sense-of-messy-data/)"
   ]
  },
  {
   "cell_type": "markdown",
   "metadata": {},
   "source": [
    "* categorize based on transaction description\n",
    "* bag of word model --> basic natural language processing approach\n",
    "* word embeddings --> standard approach from around 5 years ago"
   ]
  },
  {
   "cell_type": "markdown",
   "metadata": {},
   "source": []
  },
  {
   "cell_type": "markdown",
   "metadata": {},
   "source": [
    "## Existing Projects"
   ]
  },
  {
   "cell_type": "markdown",
   "metadata": {},
   "source": [
    "*resource / references for how to do transaction categorization*"
   ]
  },
  {
   "cell_type": "markdown",
   "metadata": {},
   "source": [
    "https://github.com/eli-goodfriend/banking-class\n",
    "* some type of parsing library (SOMETHINGLIKETHIS -> something like this)\n",
    "* 2 categorization rules\n",
    "    1. if the transaction is from a big institution, have rules to do it directly\n",
    "    2. otherwise, categorize using ML model\n",
    "* ML model details\n",
    "    * merchant name -> apply word embedding -> ML classifier (SVM, logistic regression, naive bayes)\n",
    "      "
   ]
  },
  {
   "cell_type": "markdown",
   "metadata": {},
   "source": [
    "https://github.com/tmerr/bank_wrangler/tree/master/bank_wrangler"
   ]
  },
  {
   "cell_type": "markdown",
   "metadata": {},
   "source": [
    "* https://github.com/tmerr/bank_wrangler/blob/master/bank_wrangler/rules.py\n",
    "* pretty good implementation of a rule / string matching algorithm"
   ]
  },
  {
   "cell_type": "markdown",
   "metadata": {},
   "source": []
  },
  {
   "cell_type": "markdown",
   "metadata": {},
   "source": [
    "## Applications to Crypto"
   ]
  },
  {
   "cell_type": "markdown",
   "metadata": {},
   "source": [
    "* it seems that most coins don't have a transaction description field unlike in financial institutions\n",
    "    * e.g. bitcoins - 9 bytes description (a character is 1 byte)"
   ]
  },
  {
   "cell_type": "markdown",
   "metadata": {},
   "source": [
    "* Googling \"crypto transaction categories\" makes me believe that no one is trying to categorize transactions atm\n",
    "* this means that **crypto transactions need to be classified purely based on crowdsourced data from fintech partners**\n",
    "* unfortunately, this seem like a graph theory problem - https://medium.com/chainalysis/visualizing-bitcoin-transactions-dd0e67d8e104\n",
    "    * I remember talking with Adam Draper in 2014, can't remember atm, but he definitely has a few blockchain visualization / informatics companies, def a good idea to check them out\n",
    "    * https://blockchain.info/tree/59587897 <-- not sure if this can help atm\n",
    "* data from PFM partners will look like this:\n",
    "    * address, institution (e.g. addr1, chase bank)\n",
    "    * AND/OR address - address, category (e.g. addr1-addr2, loans)\n",
    "* some approaches\n",
    "    * DeepWalk - word embeddings for graphs (https://arxiv.org/abs/1403.6652)\n",
    "        * main idea is that we can create a vector for every entity (node in the graph), and figure out what similar vectors are for a graph\n",
    "        * so for example, if we know that this node is like 3 other nodes, and all 3 other nodes are banks, then we can infer that this is a bank\n",
    "    * graph clustering algorithms (check out http://web.stanford.edu/class/cs224w/handouts.html - Spectral Clustering section)\n",
    "        * main idea is also that if we can say these nodes belong in the same cluster, then we can infer the property of the nodes "
   ]
  },
  {
   "cell_type": "markdown",
   "metadata": {},
   "source": []
  }
 ],
 "metadata": {
  "kernelspec": {
   "display_name": "Python 2",
   "language": "python",
   "name": "python2"
  },
  "language_info": {
   "codemirror_mode": {
    "name": "ipython",
    "version": 2
   },
   "file_extension": ".py",
   "mimetype": "text/x-python",
   "name": "python",
   "nbconvert_exporter": "python",
   "pygments_lexer": "ipython2",
   "version": "2.7.13"
  }
 },
 "nbformat": 4,
 "nbformat_minor": 2
}
