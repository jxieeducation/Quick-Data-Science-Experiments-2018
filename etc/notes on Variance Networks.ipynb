{
 "cells": [
  {
   "cell_type": "markdown",
   "metadata": {},
   "source": [
    "[src](https://arxiv.org/pdf/1803.03764.pdf)"
   ]
  },
  {
   "cell_type": "markdown",
   "metadata": {},
   "source": [
    "* stochastic training is like ensemble training - less prone to overfitting and generalize better\n",
    "* 2 approaches to ensemble DNNs:\n",
    "    * avg predictions of several networks\n",
    "    * induce noise during training and avg over noise in training stage"
   ]
  },
  {
   "cell_type": "markdown",
   "metadata": {},
   "source": [
    "* variance layers\n",
    "    * store learned information in variance of weights than the expectation\n"
   ]
  },
  {
   "cell_type": "markdown",
   "metadata": {},
   "source": [
    "### variational inference in DNNs\n",
    "* $log p(y | x, W)$\n",
    "* treat weight matrix $W$ as a random variable, inducing a prior $p(W)$\n",
    "* $L(\\phi) = E_{q(W|\\phi)} log p(Y | X, W) - KL(q(W|\\phi) || p(W)) $ \n",
    "* in inference $p(y|x) = E_{q(W)} p(y | x, W) \\sim \\frac{1}{K} \\sum^K_{k=1} p(y| x, W^{(k)})$\n",
    "* "
   ]
  },
  {
   "cell_type": "markdown",
   "metadata": {},
   "source": []
  }
 ],
 "metadata": {
  "kernelspec": {
   "display_name": "Python 2",
   "language": "python",
   "name": "python2"
  },
  "language_info": {
   "codemirror_mode": {
    "name": "ipython",
    "version": 2
   },
   "file_extension": ".py",
   "mimetype": "text/x-python",
   "name": "python",
   "nbconvert_exporter": "python",
   "pygments_lexer": "ipython2",
   "version": "2.7.13"
  }
 },
 "nbformat": 4,
 "nbformat_minor": 2
}
