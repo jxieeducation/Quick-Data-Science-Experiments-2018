{
 "cells": [
  {
   "cell_type": "markdown",
   "metadata": {},
   "source": [
    "[src](https://arxiv.org/pdf/1706.04599.pdf)"
   ]
  },
  {
   "cell_type": "markdown",
   "metadata": {},
   "source": [
    "### methods to evaluate miscalibration\n",
    "* expected calibration error\n",
    "    * $E[P(\\hat{y} = y | \\hat{P} = p) - p]$\n",
    "* maximum calibration error\n",
    "    * $max_{p \\in [0, 1]} | P(\\hat{Y} = Y| \\hat{P} = p) - p |$\n",
    "* negative log likelihood\n",
    "    * $L = - \\sum_{i=1}^n log(\\hat{\\pi(y_i | x_i)})$"
   ]
  },
  {
   "cell_type": "markdown",
   "metadata": {},
   "source": [
    "### paper basically says that deep nets are increasingly poorly calibrated\n",
    "* more depth / capacity\n",
    "* lack of reg\n",
    "* batch norm"
   ]
  },
  {
   "cell_type": "markdown",
   "metadata": {},
   "source": []
  },
  {
   "cell_type": "markdown",
   "metadata": {},
   "source": []
  }
 ],
 "metadata": {
  "kernelspec": {
   "display_name": "Python 2",
   "language": "python",
   "name": "python2"
  },
  "language_info": {
   "codemirror_mode": {
    "name": "ipython",
    "version": 2
   },
   "file_extension": ".py",
   "mimetype": "text/x-python",
   "name": "python",
   "nbconvert_exporter": "python",
   "pygments_lexer": "ipython2",
   "version": "2.7.13"
  }
 },
 "nbformat": 4,
 "nbformat_minor": 2
}
