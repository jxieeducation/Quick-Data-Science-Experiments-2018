{
 "cells": [
  {
   "cell_type": "code",
   "execution_count": 1,
   "metadata": {
    "collapsed": true
   },
   "outputs": [],
   "source": [
    "import tensorflow as tf\n",
    "import numpy as np\n",
    "import os\n",
    "import time\n",
    "import datetime"
   ]
  },
  {
   "cell_type": "code",
   "execution_count": 56,
   "metadata": {
    "collapsed": true
   },
   "outputs": [],
   "source": [
    "tf.reset_default_graph()\n",
    "sess = tf.Session()"
   ]
  },
  {
   "cell_type": "code",
   "execution_count": 57,
   "metadata": {},
   "outputs": [],
   "source": [
    "input_sites = tf.placeholder(tf.int32, [None, 10], name=\"input_sites\")\n",
    "input_verticals = tf.placeholder(tf.int32, [None, 10], name=\"input_verticals\")"
   ]
  },
  {
   "cell_type": "code",
   "execution_count": 58,
   "metadata": {},
   "outputs": [],
   "source": [
    "### sites\n",
    "W_sites = tf.Variable(tf.random_uniform([5000, 64], -1.0, 1.0), name=\"W_sites\")\n",
    "embedded_sites = tf.nn.embedding_lookup(W_sites, input_sites) # 10x64\n",
    "site_embedding = tf.reduce_mean(embedded_sites, axis=1)\n",
    "\n",
    "### verticals\n",
    "W_verticals = tf.Variable(tf.random_uniform([5000, 50], -1.0, 1.0), name=\"W_verticals\")\n",
    "embedded_verticals = tf.nn.embedding_lookup(W_verticals, input_verticals) # 10x64\n",
    "vertical_embedding = tf.reduce_mean(embedded_verticals, axis=1)\n",
    "\n",
    "user_embedding = tf.concat([site_embedding, vertical_embedding], axis=1, name='uucode')"
   ]
  },
  {
   "cell_type": "code",
   "execution_count": 59,
   "metadata": {
    "collapsed": true
   },
   "outputs": [],
   "source": [
    "sess.run(tf.global_variables_initializer())"
   ]
  },
  {
   "cell_type": "code",
   "execution_count": 60,
   "metadata": {},
   "outputs": [],
   "source": [
    "sites = np.random.randint(low=0, high=100, size=[1, 10])\n",
    "verticals = np.random.randint(low=0, high=100, size=[1, 10])"
   ]
  },
  {
   "cell_type": "code",
   "execution_count": 61,
   "metadata": {},
   "outputs": [
    {
     "data": {
      "text/plain": [
       "(1, 114)"
      ]
     },
     "execution_count": 61,
     "metadata": {},
     "output_type": "execute_result"
    }
   ],
   "source": [
    "sess.run(user_embedding, {input_sites: sites, input_verticals: verticals}).shape"
   ]
  },
  {
   "cell_type": "code",
   "execution_count": null,
   "metadata": {
    "collapsed": true
   },
   "outputs": [],
   "source": []
  }
 ],
 "metadata": {
  "kernelspec": {
   "display_name": "Python 2",
   "language": "python",
   "name": "python2"
  },
  "language_info": {
   "codemirror_mode": {
    "name": "ipython",
    "version": 2
   },
   "file_extension": ".py",
   "mimetype": "text/x-python",
   "name": "python",
   "nbconvert_exporter": "python",
   "pygments_lexer": "ipython2",
   "version": "2.7.13"
  }
 },
 "nbformat": 4,
 "nbformat_minor": 2
}
