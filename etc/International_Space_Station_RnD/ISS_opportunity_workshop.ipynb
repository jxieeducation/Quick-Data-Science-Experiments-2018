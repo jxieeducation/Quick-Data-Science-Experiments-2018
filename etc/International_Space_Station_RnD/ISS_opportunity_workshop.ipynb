{
 "cells": [
  {
   "cell_type": "markdown",
   "metadata": {},
   "source": [
    "* life sciences\n",
    "    * cell formation\n",
    "    * parkinson's - crystallizing LRRK2 protein\n",
    "    * seed germination\n",
    "* material and physical sciences\n",
    "    * flame retardent textile\n",
    "    * hard to wet solids\n",
    "    * colloidal stability (phase change)\n",
    "    * hot tearing (w/o gravity)\n",
    "    * corrosion and biofilms\n",
    "* tech dev\n",
    "    * solar radiation effects on data loss\n",
    "    * in space manufacturing - eliminate defects\n",
    "    * imagery\n",
    "* remote sensing\n",
    "    * radio freqeuncy on board of ISS\n",
    "    * in orbit fuel supply"
   ]
  },
  {
   "cell_type": "markdown",
   "metadata": {},
   "source": [
    "### Mark T. Vande Hei\n",
    "* astronaut\n",
    "* he was a lab technican on the ISS\n",
    "* NASA - commercializing ISS as a commercial lab - microgravity research\n",
    "* every body is lactose intollerant in space\n",
    "* best sleep in space\n",
    "* did experiments everyday"
   ]
  },
  {
   "cell_type": "markdown",
   "metadata": {},
   "source": []
  },
  {
   "cell_type": "markdown",
   "metadata": {},
   "source": []
  }
 ],
 "metadata": {
  "kernelspec": {
   "display_name": "Python 2",
   "language": "python",
   "name": "python2"
  },
  "language_info": {
   "codemirror_mode": {
    "name": "ipython",
    "version": 2
   },
   "file_extension": ".py",
   "mimetype": "text/x-python",
   "name": "python",
   "nbconvert_exporter": "python",
   "pygments_lexer": "ipython2",
   "version": "2.7.13"
  }
 },
 "nbformat": 4,
 "nbformat_minor": 2
}
