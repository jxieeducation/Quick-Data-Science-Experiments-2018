{
 "cells": [
  {
   "cell_type": "markdown",
   "metadata": {},
   "source": [
    "http://mrtz.org/nips17/#/25"
   ]
  },
  {
   "cell_type": "code",
   "execution_count": 98,
   "metadata": {},
   "outputs": [],
   "source": [
    "import numpy as np\n",
    "from sklearn.linear_model import LogisticRegression as LR\n",
    "import matplotlib.pylab as plt\n",
    "%matplotlib inline"
   ]
  },
  {
   "cell_type": "code",
   "execution_count": 184,
   "metadata": {
    "collapsed": true
   },
   "outputs": [],
   "source": [
    "n = 1000"
   ]
  },
  {
   "cell_type": "code",
   "execution_count": 185,
   "metadata": {
    "collapsed": true
   },
   "outputs": [],
   "source": [
    "def gen_dataset(n=100):\n",
    "    X = np.array([0] * (n/2) + [1] * (n/2)).reshape(-1, 1)\n",
    "    y = np.concatenate((np.random.binomial(n=1, p=0.55, size=(n/2)), np.random.binomial(n=1, p=0.45, size=(n/2))))\n",
    "    return X, y"
   ]
  },
  {
   "cell_type": "code",
   "execution_count": 186,
   "metadata": {
    "scrolled": false
   },
   "outputs": [],
   "source": [
    "X, y = gen_dataset(n)"
   ]
  },
  {
   "cell_type": "code",
   "execution_count": 187,
   "metadata": {},
   "outputs": [
    {
     "data": {
      "text/plain": [
       "(1000,)"
      ]
     },
     "execution_count": 187,
     "metadata": {},
     "output_type": "execute_result"
    }
   ],
   "source": [
    "y.shape"
   ]
  },
  {
   "cell_type": "code",
   "execution_count": null,
   "metadata": {},
   "outputs": [],
   "source": []
  },
  {
   "cell_type": "code",
   "execution_count": 188,
   "metadata": {
    "collapsed": true
   },
   "outputs": [],
   "source": [
    "def train_model(X, y):\n",
    "    n = y.shape[0]\n",
    "    print \"The counts are %d-%d\" % (np.sum(X==0), np.sum(X==1))\n",
    "    print \"The priors are %.2f-%.2f\" % (np.sum(y[(X==0).reshape(-1)]) / float(np.sum(X==0)),\\\n",
    "                                    np.sum(y[(X==1).reshape(-1)]) / float(np.sum(X==1)))\n",
    "    clf = LR().fit(X, y)\n",
    "    # print clf.coef_\n",
    "    return clf"
   ]
  },
  {
   "cell_type": "code",
   "execution_count": 189,
   "metadata": {},
   "outputs": [
    {
     "name": "stdout",
     "output_type": "stream",
     "text": [
      "The counts are 500-500\n",
      "The priors are 0.55-0.50\n",
      "[[-0.18016203]]\n"
     ]
    }
   ],
   "source": [
    "clf = train_model(X, y)\n",
    "print clf.coef_"
   ]
  },
  {
   "cell_type": "code",
   "execution_count": 192,
   "metadata": {
    "scrolled": false
   },
   "outputs": [
    {
     "name": "stdout",
     "output_type": "stream",
     "text": [
      "iter: 0\n",
      "The counts are 499-11\n",
      "The priors are 0.54-0.36\n",
      "iter: 1\n",
      "The counts are 500-10\n",
      "The priors are 0.59-0.30\n",
      "iter: 2\n",
      "The counts are 500-10\n",
      "The priors are 0.59-0.60\n",
      "iter: 3\n",
      "The counts are 10-500\n",
      "The priors are 0.40-0.44\n",
      "iter: 4\n",
      "The counts are 10-500\n",
      "The priors are 0.50-0.47\n",
      "iter: 5\n",
      "The counts are 500-10\n",
      "The priors are 0.60-0.40\n",
      "iter: 6\n",
      "The counts are 500-10\n",
      "The priors are 0.54-0.60\n",
      "iter: 7\n",
      "The counts are 10-500\n",
      "The priors are 0.50-0.49\n",
      "iter: 8\n",
      "The counts are 500-10\n",
      "The priors are 0.53-0.30\n",
      "iter: 9\n",
      "The counts are 500-10\n",
      "The priors are 0.56-0.70\n",
      "iter: 10\n",
      "The counts are 10-500\n",
      "The priors are 0.30-0.46\n",
      "iter: 11\n",
      "The counts are 10-500\n",
      "The priors are 0.50-0.42\n",
      "iter: 12\n",
      "The counts are 500-10\n",
      "The priors are 0.52-0.30\n",
      "iter: 13\n",
      "The counts are 500-10\n",
      "The priors are 0.54-0.40\n",
      "iter: 14\n",
      "The counts are 500-10\n",
      "The priors are 0.55-0.50\n",
      "iter: 15\n",
      "The counts are 500-10\n",
      "The priors are 0.52-0.40\n",
      "iter: 16\n",
      "The counts are 500-10\n",
      "The priors are 0.52-0.40\n",
      "iter: 17\n",
      "The counts are 500-10\n",
      "The priors are 0.53-0.50\n",
      "iter: 18\n",
      "The counts are 500-10\n",
      "The priors are 0.55-0.50\n",
      "iter: 19\n",
      "The counts are 500-10\n",
      "The priors are 0.56-0.40\n"
     ]
    }
   ],
   "source": [
    "for i in range(20):\n",
    "    print \"iter: %d\" % i\n",
    "    X, y = gen_dataset(n)\n",
    "    y_hat = clf.predict_proba(X)\n",
    "    selected_indices = y_hat[:,1].argsort()[-510:][::-1]\n",
    "    train_X, train_y = X[selected_indices], y[selected_indices]\n",
    "    clf = train_model(train_X, train_y)\n",
    "#     print i, clf.coef_"
   ]
  },
  {
   "cell_type": "code",
   "execution_count": null,
   "metadata": {
    "collapsed": true
   },
   "outputs": [],
   "source": []
  },
  {
   "cell_type": "code",
   "execution_count": null,
   "metadata": {
    "collapsed": true
   },
   "outputs": [],
   "source": []
  }
 ],
 "metadata": {
  "kernelspec": {
   "display_name": "Python 2",
   "language": "python",
   "name": "python2"
  },
  "language_info": {
   "codemirror_mode": {
    "name": "ipython",
    "version": 2
   },
   "file_extension": ".py",
   "mimetype": "text/x-python",
   "name": "python",
   "nbconvert_exporter": "python",
   "pygments_lexer": "ipython2",
   "version": "2.7.13"
  }
 },
 "nbformat": 4,
 "nbformat_minor": 2
}
