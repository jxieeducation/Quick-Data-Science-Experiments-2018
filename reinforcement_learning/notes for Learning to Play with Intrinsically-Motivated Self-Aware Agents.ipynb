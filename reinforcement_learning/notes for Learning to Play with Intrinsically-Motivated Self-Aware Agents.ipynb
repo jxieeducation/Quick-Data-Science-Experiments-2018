{
 "cells": [
  {
   "cell_type": "markdown",
   "metadata": {},
   "source": [
    "[src](https://arxiv.org/pdf/1802.07442.pdf)"
   ]
  },
  {
   "cell_type": "markdown",
   "metadata": {},
   "source": [
    "* a way to explore the unknown world\n",
    "* modeling intrinsic learning with a loss fn\n",
    "    * agent chooses action that that result in novel but predictable states taht maximize learning\n",
    "* architecture\n",
    "    * world model - learn a dynamics prediction problem based on inputs from the environment\n",
    "    * self model - estimate the world-model’s losses several time steps into the future, as a function of potential agent actions"
   ]
  },
  {
   "cell_type": "markdown",
   "metadata": {},
   "source": [
    "### World model\n",
    "* Partially Observable MDP \n",
    "    * (S, P, O, A), p is transition state (deterministic by newtonian physics)\n",
    "* tuple $(X, Y, \\epsilon_t, \\eta_t, L)$\n",
    "    * $\\epsilon_t$ - map from history to input\n",
    "    * $\\eta_t$ - map from history to output\n",
    "* $L_w = L(w_{\\theta_t} (\\epsilon_t (h)), \\eta_t(h) )$"
   ]
  },
  {
   "cell_type": "markdown",
   "metadata": {},
   "source": [
    "### Explicit Self Model\n",
    "* predict $L_{\\omega_t}$ as a fn of current action\n",
    "* $L(s_t, a_t) = p(c | s_t, a) \\in \\prod_{t=1}^T P(|c|) $\n",
    "\n",
    "* adversarial action choice policy\n",
    "    * $S x A -> \\prod_{t=1}^T P(|c|)$\n",
    "    * $\\pi(a) \\sim exp(\\beta \\sigma(a))$"
   ]
  },
  {
   "cell_type": "markdown",
   "metadata": {},
   "source": []
  },
  {
   "cell_type": "markdown",
   "metadata": {},
   "source": []
  }
 ],
 "metadata": {
  "kernelspec": {
   "display_name": "Python 2",
   "language": "python",
   "name": "python2"
  },
  "language_info": {
   "codemirror_mode": {
    "name": "ipython",
    "version": 2
   },
   "file_extension": ".py",
   "mimetype": "text/x-python",
   "name": "python",
   "nbconvert_exporter": "python",
   "pygments_lexer": "ipython2",
   "version": "2.7.13"
  }
 },
 "nbformat": 4,
 "nbformat_minor": 2
}
