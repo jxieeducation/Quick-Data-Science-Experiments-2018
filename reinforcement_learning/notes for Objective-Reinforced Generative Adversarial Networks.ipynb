{
 "cells": [
  {
   "cell_type": "markdown",
   "metadata": {},
   "source": [
    "[src](https://arxiv.org/pdf/1705.10843.pdf)"
   ]
  },
  {
   "cell_type": "markdown",
   "metadata": {},
   "source": [
    "## Abstract\n",
    "* in unsupervised generation, give hints to models to bias towards desirable metrics\n",
    "* combine GAN and RL \n",
    "* generate SMILES molecule sequences"
   ]
  },
  {
   "cell_type": "markdown",
   "metadata": {},
   "source": [
    "## Intro\n",
    "* one might want to bias the output to generate molecules that have properties like \"organic solar cells\"\n",
    "* previous approach focuses on modifications to the objective functions\n",
    "* ORGAN adds a discriminator term to the RL reward fn (hard coded objective for RL + discriminator that's dynamic)"
   ]
  },
  {
   "cell_type": "markdown",
   "metadata": {},
   "source": [
    "## Model\n",
    "* G is trained by RL where reward is a combination of D and hard objective\n",
    "* $D_\\theta$ is a CNN\n",
    "* $G_\\theta$ is a RNN that generates T length sequences\n",
    "* treat G as an RL agent\n",
    "    * $s_t$ state is the current sequence of tokens\n",
    "    * $a$ is the next token to select\n",
    "    * stochastic policy is $G_\\theta (y_t | Y_{1:t-1})$\n",
    "* maximize long term reward $J(\\theta) = E[R(Y_{1:T}) | s_0, \\theta] = \\sum_{y_1 \\in Y} G_\\theta (y_1 | s_0) Q(s_0, y_1)$\n",
    "    * $Q$ is the same q as in Q-learning (action-value)\n",
    "* $Q(Y_{1:T}, y_t) = \\frac{1}{N} \\sum_{n \\in 1..N} R(Y^n_{1:T})$\n",
    "* $R(Y_{1:T}) = \\lambda D_\\theta (Y_{1:T}) + (1 - \\lambda) O(Y_{1:T})$"
   ]
  },
  {
   "cell_type": "markdown",
   "metadata": {},
   "source": [
    "## Experiment\n",
    "* O \n",
    "    * novelty - 1 if outside training set and valid, 0.3 if valid, 0 not valid\n",
    "    * diversity - 0 to 1 measure of similarity with samples from training set\n",
    "    * solubility - if it can disolve?...\n",
    "    * other stuff..."
   ]
  },
  {
   "cell_type": "code",
   "execution_count": null,
   "metadata": {
    "collapsed": true
   },
   "outputs": [],
   "source": []
  }
 ],
 "metadata": {
  "kernelspec": {
   "display_name": "Python 2",
   "language": "python",
   "name": "python2"
  },
  "language_info": {
   "codemirror_mode": {
    "name": "ipython",
    "version": 2
   },
   "file_extension": ".py",
   "mimetype": "text/x-python",
   "name": "python",
   "nbconvert_exporter": "python",
   "pygments_lexer": "ipython2",
   "version": "2.7.13"
  }
 },
 "nbformat": 4,
 "nbformat_minor": 2
}
