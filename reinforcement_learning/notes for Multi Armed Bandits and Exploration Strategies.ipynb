{
 "cells": [
  {
   "cell_type": "markdown",
   "metadata": {},
   "source": [
    "[src](https://sudeepraja.github.io/Bandits/)"
   ]
  },
  {
   "cell_type": "markdown",
   "metadata": {},
   "source": [
    "* K arms\n",
    "* $P_a$ is the distribution and $\\mu_a$ is the mean\n",
    "* agent has T arm pulls budget, and the goal is the maximize the accumulated reward $\\sum_{t=1}^T r_{a_i, t}$\n",
    "* expectation - $E[\\text{total reward}] = \\sum_{t=1}^T \\mu_{x_t}$\n",
    "    * $x_t \\in {a_1, a_2, ..., a_K}$\n",
    "* let $a^*$ be the optimal arm\n",
    "    * minimize regret as $T\\mu^* - \\sum_{t=1}^T \\mu_{x_t}$\n",
    "* let $Q_a$ represent the empirical mean of rewards by pulling arm a\n",
    "    * $Q_a = \\frac{\\text{sum of rewards received from a}}{\\text{times arm a is pulled}}$"
   ]
  },
  {
   "cell_type": "markdown",
   "metadata": {},
   "source": [
    "### $\\epsilon$-greedy\n",
    "* $P(a_i) = $\n",
    "    * $1 - \\epsilon + \\frac{\\epsilon}{k}$ if $a_i = argmax_a (Q[a])$\n",
    "    * $\\frac{\\epsilon}{k}$\n",
    "* $E[regret] = \\sum_{t=1}^T E[r_{a^*, t}] - \\sum_{t=1}^T E[r_{a_i, t}] $\n",
    "    * $>= \\sum_{t=1}^T \\mu^* - [(1-\\epsilon) \\mu^* + \\epsilon \\bar{\\mu}]$\n",
    "    * $= T \\epsilon (\\mu^* - \\bar{\\mu})$"
   ]
  },
  {
   "cell_type": "markdown",
   "metadata": {},
   "source": [
    "### boltzmann exploration\n",
    "* $P(a) = \\frac{exp(Q[a] / \\tau)}{ \\sum_a exp(Q[a] / \\tau) }$\n",
    "    * when $\\tau$ is high, everything is chosen in equal amounts\n",
    "    * when $\\tau$ is low, best arm is always chosen"
   ]
  },
  {
   "cell_type": "markdown",
   "metadata": {},
   "source": [
    "### UCB\n",
    "* $A = argmax_a [Q[A] + \\sqrt{\\frac{2 log t}{N[a]}}] $"
   ]
  },
  {
   "cell_type": "markdown",
   "metadata": {},
   "source": [
    "### Thompson Sampling Strategy\n",
    "* has a prior on the arm\n",
    "* $\\frac{\\Gamma (\\alpha + \\beta)}{\\Gamma(\\alpha) \\Gamma(\\beta)} x^{\\alpha-1} (1-x)^{\\beta -1}$"
   ]
  },
  {
   "cell_type": "code",
   "execution_count": null,
   "metadata": {
    "collapsed": true
   },
   "outputs": [],
   "source": []
  }
 ],
 "metadata": {
  "kernelspec": {
   "display_name": "Python 2",
   "language": "python",
   "name": "python2"
  },
  "language_info": {
   "codemirror_mode": {
    "name": "ipython",
    "version": 2
   },
   "file_extension": ".py",
   "mimetype": "text/x-python",
   "name": "python",
   "nbconvert_exporter": "python",
   "pygments_lexer": "ipython2",
   "version": "2.7.13"
  }
 },
 "nbformat": 4,
 "nbformat_minor": 2
}
