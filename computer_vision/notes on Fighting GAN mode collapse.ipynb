{
 "cells": [
  {
   "cell_type": "markdown",
   "metadata": {},
   "source": [
    "[src](https://www.exptechinc.com/2018/02/fighting-gan-mode-collapse-by-randomly-sampling-the-latent-space/)"
   ]
  },
  {
   "cell_type": "markdown",
   "metadata": {},
   "source": [
    "* mode collapse\n",
    "    * gen draws honda civic\n",
    "    * disc labels all honda civics are false\n",
    "    * gen draws honda accord instead\n",
    "    * disc labels all honda accords are false\n",
    "* how to avoid:\n",
    "    * "
   ]
  },
  {
   "cell_type": "markdown",
   "metadata": {},
   "source": [
    "* add a constraint: generator outputs must be random\n",
    "* intuitive way: find some compressed space in X \n",
    "* find a bijection, f: X -> Y from dense space to real examples"
   ]
  },
  {
   "cell_type": "markdown",
   "metadata": {},
   "source": [
    "### what actually happens:\n",
    "* train an autoencoder\n",
    "* gen generates the latent space instead of image\n",
    "* discriminator discriminates between the latent space instead of the image"
   ]
  },
  {
   "cell_type": "markdown",
   "metadata": {},
   "source": [
    "### why it works\n",
    "* latent space is densely packed\n",
    "* decoder approaches a bijection\n",
    "    * bijection means, both on-to and 1 to 1\n",
    "    * If both the encoder and the decoder are bijections, then any point randomly sampled in the latent space must have a unique, correspondingly random point in the true data space.\n",
    "    * if the above is true, then the generator output must be random, this means that there won't be densely packed spaces, which cause the predictions to all be the same"
   ]
  },
  {
   "cell_type": "markdown",
   "metadata": {},
   "source": [
    "* takes on a lot of ideas from VAE"
   ]
  },
  {
   "cell_type": "code",
   "execution_count": null,
   "metadata": {
    "collapsed": true
   },
   "outputs": [],
   "source": []
  }
 ],
 "metadata": {
  "kernelspec": {
   "display_name": "Python 2",
   "language": "python",
   "name": "python2"
  },
  "language_info": {
   "codemirror_mode": {
    "name": "ipython",
    "version": 2
   },
   "file_extension": ".py",
   "mimetype": "text/x-python",
   "name": "python",
   "nbconvert_exporter": "python",
   "pygments_lexer": "ipython2",
   "version": "2.7.13"
  }
 },
 "nbformat": 4,
 "nbformat_minor": 2
}
