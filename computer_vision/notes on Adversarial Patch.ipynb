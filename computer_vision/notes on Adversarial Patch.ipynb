{
 "cells": [
  {
   "cell_type": "markdown",
   "metadata": {},
   "source": [
    "[src](https://arxiv.org/pdf/1712.09665.pdf)"
   ]
  },
  {
   "cell_type": "markdown",
   "metadata": {},
   "source": [
    "## Intro & Abstract\n",
    "* create universal robust and targeted adversarial image patches\n",
    "* cause classifier to ignore other items and report a targeted chosen class\n",
    "* prior work focues on modifying a single input image\n",
    "* instead this attack is a patch that can be placed anywhere on the iamge "
   ]
  },
  {
   "cell_type": "markdown",
   "metadata": {},
   "source": [
    "## Approach\n",
    "* traditionally, given $P[y | x]$, a target class that we want to fool $\\hat{y}$, we can do gradient descent with the model parameters to find $P[\\hat{y} | \\hat{x}]$\n",
    "* patch application operator $A(p, x, l, t)$ which applies transformation t to patch p, then apply p to image x at location l\n",
    "* to obtain patch $\\hat{p}$, use variant of Expectation over Transformation (EoT)\n",
    "    * $\\hat{p} \\sim argmax_p E_{x \\sim X, t \\sim T, l \\sim L} [log Pr (\\hat{y} | A(p, x, l, t))]$\n",
    "* this encourages the patch to work across iamges\n",
    "* add constraint $\\| p - p_{orig} < \\epsilon \\| $, to limit the size of camoflage\n"
   ]
  },
  {
   "cell_type": "markdown",
   "metadata": {},
   "source": []
  },
  {
   "cell_type": "markdown",
   "metadata": {},
   "source": []
  }
 ],
 "metadata": {
  "kernelspec": {
   "display_name": "Python 2",
   "language": "python",
   "name": "python2"
  },
  "language_info": {
   "codemirror_mode": {
    "name": "ipython",
    "version": 2
   },
   "file_extension": ".py",
   "mimetype": "text/x-python",
   "name": "python",
   "nbconvert_exporter": "python",
   "pygments_lexer": "ipython2",
   "version": "2.7.13"
  }
 },
 "nbformat": 4,
 "nbformat_minor": 2
}
