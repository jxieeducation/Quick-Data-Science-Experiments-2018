{
 "cells": [
  {
   "cell_type": "markdown",
   "metadata": {},
   "source": [
    "[src](https://arxiv.org/pdf/1803.07517.pdf)"
   ]
  },
  {
   "cell_type": "markdown",
   "metadata": {},
   "source": [
    "* explanable AI (4 components)\n",
    "    * users\n",
    "    * law and regulations\n",
    "    * explanations\n",
    "    * algorithms"
   ]
  },
  {
   "cell_type": "markdown",
   "metadata": {},
   "source": [
    "## Explanation Methods\n",
    "### properties\n",
    "* high fidelity\n",
    "* high clarity\n",
    "* high parsimony\n",
    "* high generalizability\n",
    "* high explanatory power\n",
    "\n",
    "### taxonomy for explanation methods\n",
    "* rule extraction\n",
    "* attribution method\n",
    "* instrinsic method"
   ]
  },
  {
   "cell_type": "markdown",
   "metadata": {},
   "source": [
    "### Rule extraction\n",
    "* decompositional approach - take apart the DNN\n",
    "* pedagogical approach - ??\n",
    "* eclectic approach "
   ]
  },
  {
   "cell_type": "markdown",
   "metadata": {},
   "source": []
  },
  {
   "cell_type": "markdown",
   "metadata": {},
   "source": []
  }
 ],
 "metadata": {
  "kernelspec": {
   "display_name": "Python 2",
   "language": "python",
   "name": "python2"
  },
  "language_info": {
   "codemirror_mode": {
    "name": "ipython",
    "version": 2
   },
   "file_extension": ".py",
   "mimetype": "text/x-python",
   "name": "python",
   "nbconvert_exporter": "python",
   "pygments_lexer": "ipython2",
   "version": "2.7.13"
  }
 },
 "nbformat": 4,
 "nbformat_minor": 2
}
