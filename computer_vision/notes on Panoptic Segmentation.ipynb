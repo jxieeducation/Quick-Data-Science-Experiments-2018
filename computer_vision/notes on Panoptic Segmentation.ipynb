{
 "cells": [
  {
   "cell_type": "markdown",
   "metadata": {},
   "source": [
    "[src](https://arxiv.org/pdf/1801.00868.pdf)"
   ]
  },
  {
   "cell_type": "markdown",
   "metadata": {},
   "source": [
    "* Panoptic segmentation unifies the traditionally distinct tasks of instance segmentation (detect and segment each object instance) and semantic segmentation (assign a class label to each pixel)\n",
    "* computer vision is divided into identifying stuff and things\n",
    "    * stuff - semantic segmentation - assigning a categorical label for each pixel\n",
    "    * things - instance segmentation + object detection\n",
    "* panoptic - segmenting semantic segmentation to the per object level (not a bunch of cars into a single blob)\n",
    "* The task formulation of PS is deceptively simple: each pixel of an image must be assigned a semantic label and an instance id"
   ]
  },
  {
   "cell_type": "markdown",
   "metadata": {},
   "source": [
    "#### the paper doesn't produce any new algorithm, but instead proposes the challenge of panoptic segmentation and proposes a measure to measure it"
   ]
  },
  {
   "cell_type": "markdown",
   "metadata": {},
   "source": []
  }
 ],
 "metadata": {
  "kernelspec": {
   "display_name": "Python 2",
   "language": "python",
   "name": "python2"
  },
  "language_info": {
   "codemirror_mode": {
    "name": "ipython",
    "version": 2
   },
   "file_extension": ".py",
   "mimetype": "text/x-python",
   "name": "python",
   "nbconvert_exporter": "python",
   "pygments_lexer": "ipython2",
   "version": "2.7.13"
  }
 },
 "nbformat": 4,
 "nbformat_minor": 2
}
