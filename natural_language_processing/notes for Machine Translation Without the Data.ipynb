{
 "cells": [
  {
   "cell_type": "markdown",
   "metadata": {},
   "source": [
    "[src](https://medium.com/@harshsayshi/machine-translation-without-the-data-21846fecc4c0)"
   ]
  },
  {
   "cell_type": "markdown",
   "metadata": {},
   "source": [
    "* unsupervised solution to language translation without paired data (data from different languages)\n",
    "* $L_{auto}(\\theta_{enc}, \\theta_{dec}, Z, l)) = E_{x \\sim D_l, \\hat{x} \\sim d(e(C(x), l), l)} [\\Delta(\\hat{x}, x)] $\n",
    "    * $\\Delta(\\hat{x}, x)$ is the sum of cross entropy at the token level\n",
    "    * C is a noise fn: \n",
    "        * it can just drop a word with prob $P_{wd}$\n",
    "        * each word can be shifted from original position with $| \\alpha(i) - i | < k$\n",
    "            * a token can be shifted at most k positions...\n",
    "* then basically do a variant of denoising autoencoder\n",
    "    * $y = m(x)$\n",
    "    * $C(y)$ is fed to the decoder\n",
    "        * noise is applied to the latent space?\n",
    "    * The encoder of language A is made to encode this corrupted version\n",
    "    * the decoder of Language B is made to decode the output from Language A’s encoder, and recreate a clean version of C(y) .\n",
    "* The authors used Adversarial Training.\n",
    "    * They used another model(called Discriminator) that takes the output of each of the encoders, and predict which language that encoded sentence belongs to. \n",
    "    * Then , the gradients from the discriminator are taken , and the encoder is also trained to fool the discriminator. \n",
    "    * This is conceptually no different than a standard GAN (Generative Adversarial Network). The Discriminator takes in the feature vector of each time step(because RNNs are used), and predicts which language it came from.\n",
    "* final loss is autoencoder loss + translation loss + and discriminator loss"
   ]
  }
 ],
 "metadata": {
  "kernelspec": {
   "display_name": "Python 2",
   "language": "python",
   "name": "python2"
  },
  "language_info": {
   "codemirror_mode": {
    "name": "ipython",
    "version": 2
   },
   "file_extension": ".py",
   "mimetype": "text/x-python",
   "name": "python",
   "nbconvert_exporter": "python",
   "pygments_lexer": "ipython2",
   "version": "2.7.13"
  }
 },
 "nbformat": 4,
 "nbformat_minor": 2
}
