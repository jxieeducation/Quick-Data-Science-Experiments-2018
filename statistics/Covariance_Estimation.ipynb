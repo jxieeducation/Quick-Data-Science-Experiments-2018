{
 "cells": [
  {
   "cell_type": "markdown",
   "metadata": {},
   "source": [
    "[covariance estimation](http://scikit-learn.org/stable/modules/covariance.html#shrunk-covariance)"
   ]
  },
  {
   "cell_type": "markdown",
   "metadata": {},
   "source": [
    "## Empirical Covariance\n",
    "* classical MLE \n",
    "* assumes that there's enough data "
   ]
  },
  {
   "cell_type": "markdown",
   "metadata": {},
   "source": [
    "## Shrunk Covariance\n",
    "### Basic shrinkage\n",
    "* MLE is unbiased, but not a good estimator of eigenvalues of cov matrix\n",
    "* reduce the ratio between smallest and largest eigenvalue of empirical covariance matrix\n",
    "* $\\Sigma_{shrunk} = (1 - \\alpha) \\hat{\\Sigma} + \\alpha \\frac{Tr\\hat{\\Sigma}}{p} Id$"
   ]
  },
  {
   "cell_type": "markdown",
   "metadata": {},
   "source": [
    "### Ledoit-Wolf shrinkage"
   ]
  },
  {
   "cell_type": "markdown",
   "metadata": {},
   "source": [
    "## Abstract\n",
    "* sample covariance estimators has estimation errors that affect mean-variance optimizer\n",
    "* shrinkage pulls extreme coefficients towards central values \n",
    "\n",
    "## Intro\n",
    "* mean variance has been the most rigorous way for portofolio optimization\n",
    "* 2 most fundamentals are mean and risk\n",
    "* when there are a lot more fields than rows (fields = stocks, rows = time data points)\n",
    "* mean-variance optimization will latch onto the extreme values\n",
    "* "
   ]
  },
  {
   "cell_type": "markdown",
   "metadata": {},
   "source": []
  }
 ],
 "metadata": {
  "kernelspec": {
   "display_name": "Python 2",
   "language": "python",
   "name": "python2"
  },
  "language_info": {
   "codemirror_mode": {
    "name": "ipython",
    "version": 2
   },
   "file_extension": ".py",
   "mimetype": "text/x-python",
   "name": "python",
   "nbconvert_exporter": "python",
   "pygments_lexer": "ipython2",
   "version": "2.7.13"
  }
 },
 "nbformat": 4,
 "nbformat_minor": 2
}
