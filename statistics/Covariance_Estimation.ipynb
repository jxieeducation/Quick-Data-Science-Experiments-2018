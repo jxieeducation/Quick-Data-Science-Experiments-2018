{
 "cells": [
  {
   "cell_type": "markdown",
   "metadata": {},
   "source": [
    "[covariance estimation](http://scikit-learn.org/stable/modules/covariance.html#shrunk-covariance)"
   ]
  },
  {
   "cell_type": "markdown",
   "metadata": {},
   "source": [
    "## Empirical Covariance\n",
    "* classical MLE \n",
    "* assumes that there's enough data "
   ]
  },
  {
   "cell_type": "markdown",
   "metadata": {},
   "source": [
    "## Shrunk Covariance\n",
    "### Basic shrinkage\n",
    "* MLE is unbiased, but not a good estimator of eigenvalues of cov matrix\n",
    "* reduce the ratio between smallest and largest eigenvalue of empirical covariance matrix\n",
    "* $\\Sigma_{shrunk} = (1 - \\alpha) \\hat{\\Sigma} + \\alpha \\frac{Tr\\hat{\\Sigma}}{p} Id$"
   ]
  },
  {
   "cell_type": "markdown",
   "metadata": {},
   "source": [
    "### Ledoit-Wolf shrinkage"
   ]
  },
  {
   "cell_type": "markdown",
   "metadata": {},
   "source": [
    "## Abstract\n",
    "* sample covariance estimators has estimation errors that affect mean-variance optimizer\n",
    "* shrinkage pulls extreme coefficients towards central values \n",
    "\n",
    "## Intro\n",
    "* mean variance has been the most rigorous way for portofolio optimization\n",
    "* 2 most fundamentals are mean and risk\n",
    "* when there are a lot more fields than rows (fields = stocks, rows = time data points)\n",
    "* mean-variance optimization will latch onto the extreme values"
   ]
  },
  {
   "cell_type": "markdown",
   "metadata": {},
   "source": [
    "## Formal description of the problem\n",
    "* weighted index of a large number N of individual stocks\n",
    "* $w_B = \\text{vector of benchmark weights for the universe of N stocks}$\n",
    "* $x = \\text{vector of active weights}$\n",
    "* $w_P = w_B + x = \\text{vector of portfolio weights}$\n",
    "* $y = \\text{vector of stock returns}$\n",
    "* $\\mu = E(y) = \\text{vector of expected stock return}$\n",
    "* $\\alpha = \\mu - w^T_B \\mu = \\text{vector of expected stock excess return} $\n",
    "* $\\Sigma = \\text{covariance matrix of stock returns}$"
   ]
  },
  {
   "cell_type": "markdown",
   "metadata": {},
   "source": [
    "* $w_P^T 1 = 1$ - sum to 1\n",
    "* $x^T 1 = 1$ - portfolio deviation is 0\n",
    "* $\\mu_P = \\mu_B + \\mu_E $ - E is excess, B is benchmark\n",
    "* $\\sigma^2_P = \\sigma^2_B + 2w^T \\Sigma x + \\sigma^2_E$\n",
    "* optimization problem\n",
    "    * min $x^T \\Sigma x$\n",
    "    * s.t. $x^T \\alpha >= g$\n",
    "    * $x^T 1 = 0$\n",
    "    * $x >= -w_B$\n",
    "    * $x <= c1 - w_B$\n",
    "* $x^T \\Sigma x$ - tracking error variance (basically weighted variance)"
   ]
  },
  {
   "cell_type": "markdown",
   "metadata": {},
   "source": [
    "### Shrinkage\n",
    "* $\\delta F + (1 - \\delta) S$, where S is the sample cov, F is the highly structured estimator\n",
    "* shrinkage target F\n",
    "    * $r_{ij} = \\frac{s_{ij}}{\\sqrt{s_{ii} s_jj}}$, sample corr\n",
    "    * $\\bar{r} = avg(r_{ij})$\n",
    "    * $f_{ij} = \\bar{r} \\sqrt{s_{ii} s_{jj}}$"
   ]
  },
  {
   "cell_type": "code",
   "execution_count": null,
   "metadata": {
    "collapsed": true
   },
   "outputs": [],
   "source": []
  }
 ],
 "metadata": {
  "kernelspec": {
   "display_name": "Python 2",
   "language": "python",
   "name": "python2"
  },
  "language_info": {
   "codemirror_mode": {
    "name": "ipython",
    "version": 2
   },
   "file_extension": ".py",
   "mimetype": "text/x-python",
   "name": "python",
   "nbconvert_exporter": "python",
   "pygments_lexer": "ipython2",
   "version": "2.7.13"
  }
 },
 "nbformat": 4,
 "nbformat_minor": 2
}
