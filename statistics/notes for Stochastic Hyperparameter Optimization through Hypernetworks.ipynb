{
 "cells": [
  {
   "cell_type": "markdown",
   "metadata": {},
   "source": [
    "[src](https://arxiv.org/pdf/1802.09419.pdf)"
   ]
  },
  {
   "cell_type": "markdown",
   "metadata": {},
   "source": [
    "* collapse hyperparameter and weight training into a joint stochastic optimization\n",
    "* shows that it converges to local minimas (not globally optimal)"
   ]
  },
  {
   "cell_type": "markdown",
   "metadata": {},
   "source": [
    "### intro\n",
    "* ml solves for $argmin_\\lambda L_{valid} (argmin_w L_{train} (w, \\lambda)) $\n",
    "* uses gradient free optimization of hyperparameters, e.g. grid search\n",
    "* "
   ]
  },
  {
   "cell_type": "markdown",
   "metadata": {},
   "source": [
    "### training a network \n",
    "* we ask hypernetwork to output a set of weights $w = w_\\phi (\\lambda)$\n",
    "* instead of training loss gradient, we do $\\frac{\\delta L_{Train} (w_\\phi)}{\\delta w_\\phi }  \\frac{\\delta w_\\phi}{\\delta \\phi} $, where $\\phi$ is the optimizer value\n",
    "* "
   ]
  },
  {
   "cell_type": "markdown",
   "metadata": {},
   "source": []
  }
 ],
 "metadata": {
  "kernelspec": {
   "display_name": "Python 2",
   "language": "python",
   "name": "python2"
  },
  "language_info": {
   "codemirror_mode": {
    "name": "ipython",
    "version": 2
   },
   "file_extension": ".py",
   "mimetype": "text/x-python",
   "name": "python",
   "nbconvert_exporter": "python",
   "pygments_lexer": "ipython2",
   "version": "2.7.13"
  }
 },
 "nbformat": 4,
 "nbformat_minor": 2
}
